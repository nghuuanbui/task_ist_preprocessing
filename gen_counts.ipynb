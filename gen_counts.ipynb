{
 "cells": [
  {
   "cell_type": "code",
   "execution_count": null,
   "id": "0ac0e30b",
   "metadata": {},
   "outputs": [],
   "source": [
    "#INPUT: assignments.csv, [optional] area.csv\n",
    "#OUTPUT: counts.h5ad\n",
    "\n",
    "\n",
    "#Read assignments\n",
    "\n",
    "#Generate blank, labelled count matrix\n",
    "\n",
    "#Populate matrix using assignments\n",
    "\n",
    "#Calculate area via alpha shapes if none provided\n",
    "\n",
    "#Normalize by area or by total counts"
   ]
  }
 ],
 "metadata": {
  "kernelspec": {
   "display_name": "Python 3 (ipykernel)",
   "language": "python",
   "name": "python3"
  },
  "language_info": {
   "codemirror_mode": {
    "name": "ipython",
    "version": 3
   },
   "file_extension": ".py",
   "mimetype": "text/x-python",
   "name": "python",
   "nbconvert_exporter": "python",
   "pygments_lexer": "ipython3",
   "version": "3.8.13"
  }
 },
 "nbformat": 4,
 "nbformat_minor": 5
}
