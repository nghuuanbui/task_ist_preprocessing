{
 "cells": [
  {
   "cell_type": "code",
   "execution_count": 4,
   "id": "2ae3517d",
   "metadata": {},
   "outputs": [],
   "source": [
    "import anndata as ad\n",
    "import numpy as np\n",
    "import scipy.io"
   ]
  },
  {
   "cell_type": "code",
   "execution_count": 6,
   "id": "668fa66d",
   "metadata": {},
   "outputs": [],
   "source": [
    "X = scipy.io.loadmat(\"/mnt/d/HMGU/DATA/hippocampus/X.mat\")\n",
    "X = X['X'].T"
   ]
  },
  {
   "cell_type": "code",
   "execution_count": 7,
   "id": "c476df01",
   "metadata": {},
   "outputs": [],
   "source": [
    "adata = ad.AnnData(X)"
   ]
  },
  {
   "cell_type": "code",
   "execution_count": 8,
   "id": "9f534428",
   "metadata": {
    "scrolled": false
   },
   "outputs": [],
   "source": [
    "celltype = scipy.io.loadmat(\"/mnt/d/HMGU/DATA/hippocampus/celltype.mat\")\n",
    "obs_names = scipy.io.loadmat(\"/mnt/d/HMGU/DATA/hippocampus/obs_names.mat\")\n",
    "var_names = scipy.io.loadmat(\"/mnt/d/HMGU/DATA/hippocampus/var_names.mat\")\n",
    "temp = []\n",
    "for i in range( len(obs_names['obs_names'])):\n",
    "    temp.append ( obs_names['obs_names'][i][0][0])\n",
    "obs_names = temp\n",
    "\n",
    "temp = []\n",
    "for i in range( len(var_names['var_names'])):\n",
    "    temp.append ( var_names['var_names'][i][0][0])\n",
    "var_names = temp\n",
    "\n",
    "temp = []\n",
    "for i in range( len(celltype['celltype'])):\n",
    "    temp.append ( celltype['celltype'][i][0][0])\n",
    "celltype = temp"
   ]
  },
  {
   "cell_type": "code",
   "execution_count": 13,
   "id": "dc73f5e7",
   "metadata": {},
   "outputs": [],
   "source": [
    "adata.obs_names = obs_names\n",
    "adata.var_names = var_names\n",
    "adata.obs['celltype'] = celltype\n",
    "adata.obs_names_make_unique()\n",
    "adata.var_names_make_unique()"
   ]
  },
  {
   "cell_type": "code",
   "execution_count": 27,
   "id": "83cdd25d",
   "metadata": {},
   "outputs": [],
   "source": [
    "adata.write_h5ad(\"/mnt/d/HMGU/DATA/hippocampus/scdata.h5ad\")"
   ]
  }
 ],
 "metadata": {
  "kernelspec": {
   "display_name": "Python 3 (ipykernel)",
   "language": "python",
   "name": "python3"
  },
  "language_info": {
   "codemirror_mode": {
    "name": "ipython",
    "version": 3
   },
   "file_extension": ".py",
   "mimetype": "text/x-python",
   "name": "python",
   "nbconvert_exporter": "python",
   "pygments_lexer": "ipython3",
   "version": "3.10.4"
  }
 },
 "nbformat": 4,
 "nbformat_minor": 5
}
