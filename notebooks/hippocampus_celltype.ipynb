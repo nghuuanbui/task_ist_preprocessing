{
 "cells": [
  {
   "cell_type": "code",
   "execution_count": 13,
   "id": "991d8fff",
   "metadata": {},
   "outputs": [],
   "source": [
    "import anndata as ad\n",
    "import numpy as np\n",
    "import pandas as pd"
   ]
  },
  {
   "cell_type": "code",
   "execution_count": 14,
   "id": "4ca36adb",
   "metadata": {},
   "outputs": [],
   "source": [
    "spot = '/mnt/d/hmgu/data/hippocampus/spots_w_segmentation_leftCA1_7-1.csv'\n",
    "cell_call = '/mnt/d/hmgu/data/hippocampus/celltype_leftCA1_7-1.csv'\n",
    "cell_calling = pd.read_csv(cell_call)\n",
    "spots = pd.read_csv(spot)\n",
    "cell_calling = cell_calling.set_index('cell')"
   ]
  },
  {
   "cell_type": "code",
   "execution_count": 15,
   "id": "a200b44d",
   "metadata": {},
   "outputs": [],
   "source": [
    "assigned = pd.DataFrame(spots['parent_id'][spots['parent_id'] != 0])\n",
    "assigned['celltype'] = cell_calling['original_celltype'][assigned['parent_id']].values\n",
    "spots['celltype'] = assigned['celltype'].reindex(spots.index, fill_value='None')\n",
    "spots.replace('Zero', 'None', inplace=True)"
   ]
  },
  {
   "cell_type": "code",
   "execution_count": 20,
   "id": "8d0c638b",
   "metadata": {
    "scrolled": true
   },
   "outputs": [
    {
     "data": {
      "text/plain": [
       "{'Astro.1',\n",
       " 'Astro.2',\n",
       " 'Astro.3',\n",
       " 'Astro.4',\n",
       " 'Astro.5',\n",
       " 'Cacna2d1.Lhx6.Reln',\n",
       " 'Cacna2d1.Ndnf.Cxcl14',\n",
       " 'Cacna2d1.Ndnf.Rgs10',\n",
       " 'Calb2.Cntnap5a.Igfbp6',\n",
       " 'Calb2.Cntnap5a.Rspo3',\n",
       " 'Calb2.Cntnap5a.Vip',\n",
       " 'Calb2.Vip.Gpd1',\n",
       " 'Calb2.Vip.Igfbp4',\n",
       " 'Calb2.Vip.Nos1',\n",
       " 'Cck.Cxcl14.Calb1.Tnfaip8l3',\n",
       " 'Cck.Cxcl14.Vip',\n",
       " 'Cck.Lmo1.Vip.Crh',\n",
       " 'Cck.Lmo1.Vip.Tac2',\n",
       " 'Cck.Sema5a',\n",
       " 'Endo',\n",
       " 'Eryth.1',\n",
       " 'Eryth.2',\n",
       " 'Microglia.1',\n",
       " 'Microglia.2',\n",
       " 'None',\n",
       " 'Ntng1.Rgs10',\n",
       " 'Ntng1.Synpr',\n",
       " 'Oligo.3',\n",
       " 'Oligo.4',\n",
       " 'Oligo.5',\n",
       " 'PC.CA1.1',\n",
       " 'PC.CA1.2',\n",
       " 'PC.CA1.3',\n",
       " 'PC.Other1',\n",
       " 'Pvalb.C1ql1.Cpne5',\n",
       " 'Pvalb.C1ql1.Npy',\n",
       " 'Pvalb.C1ql1.Pvalb',\n",
       " 'Pvalb.Tac1.Akr1c18',\n",
       " 'Pvalb.Tac1.Nr4a2',\n",
       " 'Pvalb.Tac1.Sst',\n",
       " 'Pvalb.Tac1.Syt2',\n",
       " 'Sst.Erbb4.Crh',\n",
       " 'Sst.Erbb4.Rgs10',\n",
       " 'Sst.Erbb4.Th',\n",
       " 'Sst.Npy.Mgat4c',\n",
       " 'Sst.Npy.Zbtb20',\n",
       " 'Sst.Pnoc.Calb1.Igfbp5',\n",
       " 'Sst.Pnoc.Pvalb',\n",
       " 'Vip.Crh.Pcp4',\n",
       " 'Vsmc'}"
      ]
     },
     "execution_count": 20,
     "metadata": {},
     "output_type": "execute_result"
    }
   ],
   "source": [
    "# adata = ad.read_h5ad('/mnt/d/hmgu/data/hippocampus/scdata.h5ad')\n",
    "\n",
    "# s1 = set(list(pd.unique(adata.obs['celltype'])))\n",
    "\n",
    "s2 = set(list(pd.unique(spots['celltype'])))\n",
    "s2\n",
    "# spots[spots['celltype'] == 'PC.Other1']\n",
    "\n",
    "# cell_calling[cell_calling['original_celltype'] == 'PC.Other1']"
   ]
  },
  {
   "cell_type": "code",
   "execution_count": 17,
   "id": "747c8c3b",
   "metadata": {},
   "outputs": [],
   "source": [
    "spots.to_csv('/mnt/d/hmgu/data/hippocampus/spots_w_celltype_leftCA1_7-1.csv')"
   ]
  },
  {
   "cell_type": "code",
   "execution_count": null,
   "id": "d13ae24d",
   "metadata": {},
   "outputs": [],
   "source": []
  }
 ],
 "metadata": {
  "kernelspec": {
   "display_name": "Python 3 (ipykernel)",
   "language": "python",
   "name": "python3"
  },
  "language_info": {
   "codemirror_mode": {
    "name": "ipython",
    "version": 3
   },
   "file_extension": ".py",
   "mimetype": "text/x-python",
   "name": "python",
   "nbconvert_exporter": "python",
   "pygments_lexer": "ipython3",
   "version": "3.10.4"
  }
 },
 "nbformat": 4,
 "nbformat_minor": 5
}
