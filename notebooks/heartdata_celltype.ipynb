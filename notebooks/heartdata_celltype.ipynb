{
 "cells": [
  {
   "cell_type": "code",
   "execution_count": 1,
   "id": "991d8fff",
   "metadata": {},
   "outputs": [],
   "source": [
    "import anndata as ad\n",
    "import numpy as np\n",
    "import pandas as pd"
   ]
  },
  {
   "cell_type": "code",
   "execution_count": 2,
   "id": "4ca36adb",
   "metadata": {},
   "outputs": [],
   "source": [
    "spot = '/mnt/d/hmgu/data/heart/spots_w_cell_segmentation_PCW6.5_1.csv'\n",
    "cell_call = '/mnt/d/hmgu/data/heart/cell_calling_PCW6.5_1.csv'\n",
    "cell_calling = pd.read_csv(cell_call)\n",
    "spots = pd.read_csv(spot)\n",
    "cell_calling = cell_calling.set_index('cell')"
   ]
  },
  {
   "cell_type": "code",
   "execution_count": 3,
   "id": "a200b44d",
   "metadata": {},
   "outputs": [],
   "source": [
    "assigned = pd.DataFrame(spots['parent_id'][spots['parent_id'] != 0])\n",
    "assigned['celltype'] = cell_calling['celltype'][assigned['parent_id']].values\n",
    "spots['celltype'] = assigned['celltype'].reindex(spots.index, fill_value='None')"
   ]
  },
  {
   "cell_type": "code",
   "execution_count": 5,
   "id": "8d0c638b",
   "metadata": {},
   "outputs": [],
   "source": [
    "adata = ad.read_h5ad(\"/mnt/d/hmgu/data/heart/heart_sc.h5ad\")"
   ]
  },
  {
   "cell_type": "code",
   "execution_count": 6,
   "id": "d353aebb",
   "metadata": {},
   "outputs": [],
   "source": [
    "#list(pd.unique(adata.obs['celltype']))\n",
    "#list(pd.unique(spots['celltype']))"
   ]
  },
  {
   "cell_type": "code",
   "execution_count": 7,
   "id": "1e0ad887",
   "metadata": {},
   "outputs": [],
   "source": [
    "sc_to_st = {\n",
    "     'Fibroblast-like '                 :  ['(2) Fribroblast-like (AV mesenchyme related)', '(4) Fribroblast-like (coronary & mediastinal vasculature related)',\n",
    "                                           '(8) Fibroblast-like (outflow tract & valve related)'] ,\n",
    "     'Smooth muscle cells '             :  ['(5) Smooth muscle cells/ fibroblast-like'],\n",
    "     'Endothelium / pericytes '         :  ['(10) Endothelium/ pericytes/ adventia'] ,\n",
    "     'Capillary endothelium'            :  ['(0) Capillary endothelium'],\n",
    "     'Epicardial cells'                 :  ['(9) Epicardial cells'],\n",
    "     'Ventricular cardiomyocytes'       :  ['(1) Ventricular cardiomyocytes'],\n",
    "     'Atrial cardiomyocytes'            :  ['(7) Artrial cardiomyocytes'],\n",
    "     'Cardiac neural crest cells '      :  ['(14) Cells related to cardiac neural crest'],\n",
    "     'None'                             :  ['None', '(3) Subepicardial cells'],\n",
    "     'Myoz2-enriched cardiomyocytes'    :  ['(12) Cardiomyocytes'],\n",
    "    \n",
    "}\n",
    "st_to_sc = {}\n",
    "for k,v in sc_to_st.items():\n",
    "    for n in v:\n",
    "        st_to_sc[n] = k"
   ]
  },
  {
   "cell_type": "code",
   "execution_count": 8,
   "id": "4cee7d9b",
   "metadata": {},
   "outputs": [],
   "source": [
    "spots.replace(st_to_sc, inplace=True)"
   ]
  },
  {
   "cell_type": "code",
   "execution_count": 9,
   "id": "c5485e9f",
   "metadata": {},
   "outputs": [],
   "source": [
    "spots.to_csv('/mnt/d/hmgu/data/heart/spots_w_celltype_PCW6.5_1.csv', index=False)"
   ]
  },
  {
   "cell_type": "code",
   "execution_count": null,
   "id": "eda6dc9a",
   "metadata": {},
   "outputs": [],
   "source": []
  }
 ],
 "metadata": {
  "kernelspec": {
   "display_name": "Python 3 (ipykernel)",
   "language": "python",
   "name": "python3"
  },
  "language_info": {
   "codemirror_mode": {
    "name": "ipython",
    "version": 3
   },
   "file_extension": ".py",
   "mimetype": "text/x-python",
   "name": "python",
   "nbconvert_exporter": "python",
   "pygments_lexer": "ipython3",
   "version": "3.10.4"
  }
 },
 "nbformat": 4,
 "nbformat_minor": 5
}
