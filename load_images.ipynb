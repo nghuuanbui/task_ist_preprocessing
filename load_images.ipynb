{
 "cells": [
  {
   "cell_type": "code",
   "execution_count": 1,
   "id": "aa62c87a",
   "metadata": {},
   "outputs": [
    {
     "name": "stderr",
     "output_type": "stream",
     "text": [
      "C:\\Users\\Habib\\anaconda3\\envs\\HGMU_scST\\lib\\site-packages\\tqdm\\auto.py:22: TqdmWarning: IProgress not found. Please update jupyter and ipywidgets. See https://ipywidgets.readthedocs.io/en/stable/user_install.html\n",
      "  from .autonotebook import tqdm as notebook_tqdm\n"
     ]
    }
   ],
   "source": [
    "import txsim as tx\n",
    "import squidpy as sq\n",
    "import scipy.io\n",
    "from scipy import ndimage\n",
    "import skimage.io\n",
    "import skimage.measure\n",
    "import skimage.segmentation\n",
    "import numpy as np\n",
    "\n",
    "#INPUT: DAPI.tif, binary.tif\n",
    "#OUTPUT: label.mat, areas.csv\n",
    "#From config:\n",
    "image_file = \"C:/Users/Habib/Projects/HMGU/tx_project/heart/raw_data/nuclei_PCW4.5_1_watershed.tif\"\n",
    "binary = True #Note: assumes the binary image is segmented (e.g. watershed via ImageJ)\n",
    "segmentation_method = 'imagej'\n",
    "expand_nuclear_area = 10\n",
    "\n",
    "#If unsegmented, segment image\n",
    "if(not binary):\n",
    "    img = sq.im.ImageContainer(image_file)\n",
    "    tx.preprocessing.segment_nuclei(img, layer = 'image', method=segmentation_method)\n",
    "    img_arr = img[\"segmented_{}\".format(segmentation_method)].to_numpy()[:,:,0,0]\n",
    "\n",
    "#If already segmented, label\n",
    "else:\n",
    "    img_arr = skimage.io.imread(image_file)\n",
    "    img_arr = skimage.measure.label(img_arr, connectivity=1)\n",
    "\n",
    "#Expand nuclear area to reflect whole cell area\n",
    "if(expand_nuclear_area != None):\n",
    "    img_arr = skimage.segmentation.expand_labels(img_arr, distance=expand_nuclear_area)\n",
    "\n",
    "#Save as .mat file\n",
    "scipy.io.savemat(\"data/label_{}.mat\".format(segmentation_method), {'label':img_arr})\n",
    "\n",
    "#Calculate and save areas\n",
    "(unique, counts) = np.unique(img_arr, return_counts=True)\n",
    "areas = np.asarray((unique, counts)).T\n",
    "np.savetxt('data/areas_{}.csv'.format(segmentation_method), areas, delimiter=\",\")"
   ]
  }
 ],
 "metadata": {
  "kernelspec": {
   "display_name": "Python 3 (ipykernel)",
   "language": "python",
   "name": "python3"
  },
  "language_info": {
   "codemirror_mode": {
    "name": "ipython",
    "version": 3
   },
   "file_extension": ".py",
   "mimetype": "text/x-python",
   "name": "python",
   "nbconvert_exporter": "python",
   "pygments_lexer": "ipython3",
   "version": "3.8.13"
  }
 },
 "nbformat": 4,
 "nbformat_minor": 5
}
