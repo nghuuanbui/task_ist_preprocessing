{
 "cells": [
  {
   "cell_type": "code",
   "execution_count": 3,
   "id": "09f5c572",
   "metadata": {},
   "outputs": [
    {
     "name": "stderr",
     "output_type": "stream",
     "text": [
      "C:\\Users\\Habib\\anaconda3\\envs\\HGMU_scST\\lib\\site-packages\\anndata\\_core\\anndata.py:121: ImplicitModificationWarning: Transforming to str index.\n",
      "  warnings.warn(\"Transforming to str index.\", ImplicitModificationWarning)\n"
     ]
    }
   ],
   "source": [
    "import scanpy as sc\n",
    "import txsim as tx\n",
    "\n",
    "#INPUT: (Spatial) counts.h5ad, (scRNAseq) counts.h5ad\n",
    "#OUTPUT: metrics.txt\n",
    "#From config\n",
    "sc_data = \"C:/Users/Habib/Projects/HMGU/tx_project/heart/raw_data/heart_sc.h5ad\" \n",
    "segmentation_method = 'imagej'\n",
    "assignment_method = 'pciSeq'\n",
    "normalize_by = 'area'\n",
    "\n",
    "#Read count matrices\n",
    "scdata = sc.read(sc_data)\n",
    "stdata = sc.read(f'data/counts_{segmentation_method}_{assignment_method}_{normalize_by}.h5ad')\n",
    "\n",
    "#Generate metrics\n",
    "coex_all = tx.metrics.coexpression_similarity(stdata, scdata)\n",
    "coex_thresh = tx.metrics.coexpression_similarity(stdata, scdata, thresh=0.5)\n",
    "\n",
    "f = open(f'data/metrics_{segmentation_method}_{assignment_method}_{normalize_by}', 'w')\n",
    "f.truncate(0)\n",
    "f.writelines(f\"Coexpresion Difference: {coex_all}\\n\")\n",
    "f.writelines(f\"Coexpresion Difference, with threshold: {coex_thresh}\")\n",
    "f.close()"
   ]
  }
 ],
 "metadata": {
  "kernelspec": {
   "display_name": "Python 3 (ipykernel)",
   "language": "python",
   "name": "python3"
  },
  "language_info": {
   "codemirror_mode": {
    "name": "ipython",
    "version": 3
   },
   "file_extension": ".py",
   "mimetype": "text/x-python",
   "name": "python",
   "nbconvert_exporter": "python",
   "pygments_lexer": "ipython3",
   "version": "3.8.13"
  }
 },
 "nbformat": 4,
 "nbformat_minor": 5
}
