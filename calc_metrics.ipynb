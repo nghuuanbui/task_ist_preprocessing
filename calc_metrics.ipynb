{
 "cells": [
  {
   "cell_type": "code",
   "execution_count": null,
   "id": "09f5c572",
   "metadata": {},
   "outputs": [],
   "source": [
    "#INPUT: (Spatial) counts.h5ad, (scRNAseq) counts.h5ad\n",
    "#OUTPUT: metrics.txt\n",
    "\n",
    "#Read count matrices\n",
    "\n",
    "#Generate metrics"
   ]
  }
 ],
 "metadata": {
  "kernelspec": {
   "display_name": "Python 3 (ipykernel)",
   "language": "python",
   "name": "python3"
  },
  "language_info": {
   "codemirror_mode": {
    "name": "ipython",
    "version": 3
   },
   "file_extension": ".py",
   "mimetype": "text/x-python",
   "name": "python",
   "nbconvert_exporter": "python",
   "pygments_lexer": "ipython3",
   "version": "3.8.13"
  }
 },
 "nbformat": 4,
 "nbformat_minor": 5
}
