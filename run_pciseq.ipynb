{
 "cells": [
  {
   "cell_type": "code",
   "execution_count": null,
   "id": "d686995c",
   "metadata": {},
   "outputs": [],
   "source": [
    "#INPUT: molecules.csv, singlecell.h5ad labels.mat\n",
    "#OUTPUT: assignments.csv\n",
    "\n",
    "#Read and format molecules, single cell data\n",
    "\n",
    "#Run through pciSeq\n",
    "\n",
    "#Save in correct format"
   ]
  }
 ],
 "metadata": {
  "kernelspec": {
   "display_name": "Python 3 (ipykernel)",
   "language": "python",
   "name": "python3"
  },
  "language_info": {
   "codemirror_mode": {
    "name": "ipython",
    "version": 3
   },
   "file_extension": ".py",
   "mimetype": "text/x-python",
   "name": "python",
   "nbconvert_exporter": "python",
   "pygments_lexer": "ipython3",
   "version": "3.8.13"
  }
 },
 "nbformat": 4,
 "nbformat_minor": 5
}
