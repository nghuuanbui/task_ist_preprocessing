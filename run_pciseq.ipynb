{
 "cells": [
  {
   "cell_type": "code",
   "execution_count": 14,
   "id": "b510845c",
   "metadata": {},
   "outputs": [
    {
     "name": "stderr",
     "output_type": "stream",
     "text": [
      "[2022-07-19 14:16:57] INFO    (app.py:151)  exclude_genes is set to ['TCIM']\n",
      "[2022-07-19 14:16:57] INFO    (app.py: 79)  Preprocessing data\n",
      "[2022-07-19 14:17:00] INFO    (spot_labels.py: 64)  Number of spots passed-in: 55240\n",
      "[2022-07-19 14:17:02] INFO    (spot_labels.py: 65)  Number of segmented cells: 15451\n",
      "[2022-07-19 14:17:02] INFO    (spot_labels.py: 66)  Segmentation array implies that image has width: 11194px and height: 11722px\n",
      "[2022-07-19 14:20:52] INFO    (datatypes.py:371)  Single cell data passed-in have 15323 genes and 3777 cells\n",
      "[2022-07-19 14:20:52] INFO    (datatypes.py:373)  Single cell data: Keeping counts for the gene panel of 63 only\n",
      "[2022-07-19 14:20:52] INFO    (datatypes.py:385)  Single cell data: Grouping gene counts by cell type. Aggregating function is the mean.\n",
      "[2022-07-19 14:20:52] INFO    (datatypes.py:387)  Grouped single cell data have 63 genes and 12 cell types\n",
      "[2022-07-19 14:20:52] INFO    (app.py: 96)  Start cell typing\n",
      "[2022-07-19 14:20:54] INFO    (main.py: 59)  Iteration 0, mean prob change 1.000000\n",
      "[2022-07-19 14:20:55] INFO    (main.py: 59)  Iteration 1, mean prob change 0.576054\n",
      "[2022-07-19 14:20:55] INFO    (main.py: 59)  Iteration 2, mean prob change 0.569658\n",
      "[2022-07-19 14:20:56] INFO    (main.py: 59)  Iteration 3, mean prob change 0.193012\n",
      "[2022-07-19 14:20:57] INFO    (main.py: 59)  Iteration 4, mean prob change 0.216043\n",
      "[2022-07-19 14:20:58] INFO    (main.py: 59)  Iteration 5, mean prob change 0.172043\n",
      "[2022-07-19 14:20:59] INFO    (main.py: 59)  Iteration 6, mean prob change 0.160456\n",
      "[2022-07-19 14:21:00] INFO    (main.py: 59)  Iteration 7, mean prob change 0.138358\n",
      "[2022-07-19 14:21:01] INFO    (main.py: 59)  Iteration 8, mean prob change 0.093946\n",
      "[2022-07-19 14:21:01] INFO    (main.py: 59)  Iteration 9, mean prob change 0.076642\n",
      "[2022-07-19 14:21:02] INFO    (main.py: 59)  Iteration 10, mean prob change 0.051740\n",
      "[2022-07-19 14:21:03] INFO    (main.py: 59)  Iteration 11, mean prob change 0.031296\n",
      "[2022-07-19 14:21:04] INFO    (main.py: 59)  Iteration 12, mean prob change 0.023099\n",
      "[2022-07-19 14:21:05] INFO    (main.py: 59)  Iteration 13, mean prob change 0.019853\n",
      "[2022-07-19 14:21:05] INFO    (summary.py: 23)  Start collecting data ...\n",
      "[2022-07-19 14:21:05] INFO    (summary.py: 47)  Data collected!\n",
      "[2022-07-19 14:21:06] INFO    (app.py: 89)  Done\n"
     ]
    }
   ],
   "source": [
    "import pciSeq\n",
    "import scipy.io\n",
    "from scipy.sparse import coo_matrix\n",
    "import pandas as pd\n",
    "import scanpy as sc\n",
    "\n",
    "#INPUT: molecules.csv, singlecell.h5ad labels.mat\n",
    "#OUTPUT: assignments.csv\n",
    "#From config:\n",
    "segmentation_method = 'imagej'\n",
    "molecules = \"C:/Users/Habib/Projects/HMGU/tx_project/heart/raw_data/spots_PCW4.5_1.csv\"\n",
    "sc_data = \"C:/Users/Habib/Projects/HMGU/tx_project/heart/raw_data/heart_sc.h5ad\" \n",
    "opts = {'exclude_genes': ['TCIM']}\n",
    "\n",
    "#Read and format molecules, single cell data, and labels\n",
    "spots = pd.read_csv(molecules)\n",
    "spots.columns = ['Gene', 'x', 'y']\n",
    "\n",
    "adata = sc.read_h5ad(sc_data)\n",
    "scdata = adata.X\n",
    "scdata  = pd.DataFrame(scdata.transpose())\n",
    "scdata.columns = adata.obs['celltype']\n",
    "scdata.index = adata.var_names\n",
    "\n",
    "label = scipy.io.loadmat('data/label_{}'.format(segmentation_method))['label']\n",
    "coo = coo_matrix(label)\n",
    "\n",
    "#Run through pciSeq\n",
    "pciSeq.attach_to_log()\n",
    "cellData, geneData = pciSeq.fit(spots, coo, scdata, opts)\n",
    "\n",
    "#Save in correct format\n",
    "assignments = geneData[ [\"Gene\", \"x\", \"y\", \"neighbour\"] ]\n",
    "assignments.columns = [\"gene\", \"x\", \"y\", \"cell\"]\n",
    "assignments.to_csv(\"data/assignments_{}_pciseq.csv\".format(segmentation_method), index = False)"
   ]
  }
 ],
 "metadata": {
  "kernelspec": {
   "display_name": "Python 3 (ipykernel)",
   "language": "python",
   "name": "python3"
  },
  "language_info": {
   "codemirror_mode": {
    "name": "ipython",
    "version": 3
   },
   "file_extension": ".py",
   "mimetype": "text/x-python",
   "name": "python",
   "nbconvert_exporter": "python",
   "pygments_lexer": "ipython3",
   "version": "3.8.13"
  }
 },
 "nbformat": 4,
 "nbformat_minor": 5
}
